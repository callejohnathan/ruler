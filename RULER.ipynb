{
  "nbformat": 4,
  "nbformat_minor": 0,
  "metadata": {
    "colab": {
      "name": "RULER.ipynb",
      "provenance": []
    },
    "kernelspec": {
      "name": "python3",
      "display_name": "Python 3"
    },
    "language_info": {
      "name": "python"
    }
  },
  "cells": [
    {
      "cell_type": "markdown",
      "source": [
        "# ***RULER (a RULe based approach for Eliciting Requirements)***"
      ],
      "metadata": {
        "id": "zYBlTE7-5dz6"
      }
    },
    {
      "cell_type": "markdown",
      "source": [
        "# Installing dependencies"
      ],
      "metadata": {
        "id": "PmE9r6Q24DTd"
      }
    },
    {
      "cell_type": "code",
      "execution_count": 1,
      "metadata": {
        "colab": {
          "base_uri": "https://localhost:8080/"
        },
        "id": "_1EWFm26VJBv",
        "outputId": "b361e89a-7f74-4510-9b19-139f829fee4b"
      },
      "outputs": [
        {
          "output_type": "stream",
          "name": "stdout",
          "text": [
            "Looking in indexes: https://pypi.org/simple, https://us-python.pkg.dev/colab-wheels/public/simple/\n",
            "Requirement already satisfied: owlready2 in /usr/local/lib/python3.7/dist-packages (0.38)\n"
          ]
        }
      ],
      "source": [
        "#Installing dependencies\n",
        "\n",
        "!pip install owlready2\n",
        "import spacy\n",
        "from owlready2 import *\n",
        "from google.colab import files\n",
        "import re\n",
        "import inflect\n",
        "\n",
        "nlp = spacy.load(\"en_core_web_sm\")\n",
        "#download the ontology file at: https://drive.google.com/file/d/1IC5ffOtcuLQE-8RYdWbf7P4Eqw_JeVJU/view?usp=sharing and upload it to your workspace"
      ]
    },
    {
      "cell_type": "markdown",
      "source": [
        "# Processing meta-ontology for RE and answers"
      ],
      "metadata": {
        "id": "cvIzX9Zi4HIO"
      }
    },
    {
      "cell_type": "code",
      "source": [
        "\n",
        "def get_question_focus(question):\n",
        "\n",
        "  inf = inflect.engine()\n",
        "  get_singular = lambda x: inf.singular_noun(x)\n",
        "  get_plural = lambda x: inf.plural(x)\n",
        "\n",
        "  #Pattern\n",
        "  focus_matches = re.search('^what (are|is) the ([a-zA-Z].*) (of|in)\\s?(the)?\\s?(\\\"[-\\[\\]\\*\\?!#$%&a-zA-Z0-9].*\\\")', question)\n",
        "  focus_feature = focus_matches.group(2)\n",
        "  focus_concept = focus_matches.group(5)\n",
        "  focus_concept = focus_concept.replace('\"', '')\n",
        "\n",
        "  feature_singular = get_singular(focus_feature) \n",
        "  focus_feature =  focus_feature if feature_singular == False else feature_singular #focus head\n",
        "  return focus_concept, focus_feature \n",
        "  \n",
        "#Classes-attributes(object and data properties)\n",
        "def get_ontology_structure(ontology):\n",
        "\n",
        "  #Inherited attributes\n",
        "  def add_inherited_attributes():\n",
        "    for ont_class in ontology_classes:\n",
        "      class_superclasses = ont_class.is_a\n",
        "      if(class_superclasses[0].name != \"Thing\"):\n",
        "        for superclass in class_superclasses:\n",
        "          ontology_structure[ont_class.name] += ontology_structure[superclass.name]\n",
        "    return ontology_structure\n",
        "\n",
        "  #Removing superclasses\n",
        "  def remove_superclasses():\n",
        "    for superclass in superclasses:\n",
        "      del(ontology_structure[superclass.name])\n",
        "    return ontology_structure\n",
        "  \n",
        "  ontology_classes = [ont_class for ont_class in ontology.classes()]\n",
        "  ontology_properties = [ont_property for ont_property in ontology.properties()]\n",
        "  ontology_structure = dict((ont_class.name, []) for ont_class in ontology_classes) #class-attributes\n",
        "  superclasses = [ont_class for ont_class in ontology.classes() if len(list(ont_class.subclasses())) > 0]\n",
        "\n",
        "  get_property_range_name = lambda x: \"none\" if type(x) is type else x.name\n",
        "\n",
        "  for ont_property in ontology_properties:\n",
        "    ont_property_features = eval(ont_property.comment[0])\n",
        "    ont_property_features[\"range\"] = get_property_range_name(ont_property.range[0])\n",
        "    ontology_structure[ont_property.domain[0].name].append((ont_property.name, ont_property_features))\n",
        "\n",
        "  #Additional steps\n",
        "  ontology_structure = add_inherited_attributes()\n",
        "  #ontology_structure = remove_superclasses()\n",
        "  \n",
        "  return ontology_structure"
      ],
      "metadata": {
        "id": "Zw6BbqmCWfZP"
      },
      "execution_count": 2,
      "outputs": []
    },
    {
      "cell_type": "code",
      "source": [
        "def building_ont_dict(answer_dict, f_individual, property_range, property_name,individual):\n",
        "  #---- building the dict for populating the ontology\n",
        "  if(property_range == \"Actor\"):\n",
        "    if(answer_dict[\"discourse\"][\"concept\"].get(f_individual) is None):\n",
        "      answer_dict[\"discourse\"][\"concept\"][f_individual] = {\"type\":\"actor\", \"attribute\":[]}\n",
        "  elif(property_range == \"Concept\"):\n",
        "    existent_concept = answer_dict[\"discourse\"][\"concept\"].get(f_individual)\n",
        "    if(existent_concept is None): #concept-object type, not actor\n",
        "      answer_dict[\"discourse\"][\"concept\"][f_individual] = {\"type\":\"object\", \"attribute\":[]}\n",
        "  elif(property_range == \"Action\"): \n",
        "    action_parts = f_individual.split(\"*\")\n",
        "    f_action_verb = action_parts[0]\n",
        "    f_related_concept = action_parts[1]\n",
        "    answer_dict[\"discourse\"][\"action\"][f\"{individual}**{f_action_verb}**{f_related_concept}\"] = {\"f_related_actor\":individual,\n",
        "                                                                                                   \"f_action_verb\":f_action_verb,\n",
        "                                                                                                   \"f_related_concept\":f_related_concept}\n",
        "  if(property_name == \"attributes\"):\n",
        "    answer_dict[\"discourse\"][\"concept\"][individual][\"attribute\"].append(f_individual)\n",
        "  return answer_dict\n",
        "\n",
        "def generate_question(ontology, answer_dict={\"discourse\":{\"concept\":{},\"action\":{}}}, answer_dictionary=None, individual=\"discourse\", query_class=\"Discourse\", validation_dictionary={}):\n",
        "  import re\n",
        "  import inflect\n",
        "  from termcolor import colored, cprint\n",
        "\n",
        "  inflect = inflect.engine()\n",
        "  ontology_structure = get_ontology_structure(ontology)\n",
        "  if(answer_dictionary is None):\n",
        "    answer_dictionary = dict((key, []) for key in ontology_structure.keys())\n",
        "  \n",
        "  beautify_property_str = lambda x: \" \".join(re.findall(\"[A-Z][^A-Z]*\", x[3:])).lower()\n",
        "  beautify_individual_str = lambda x: \" \".join(individual.split(\"_\"))\n",
        "\n",
        "  #First question ---> Discourse 'has-a' relationships (default)\n",
        "  wh_auxiliaries = {\"single\":\"is\", \"multiple\":\"are\"}\n",
        "  ontology_classes = list(ontology_structure.keys())\n",
        "\n",
        "  for ont_property in ontology_structure[query_class]:\n",
        "    property_name, property_features = ont_property\n",
        "    property_name = beautify_property_str(property_name)\n",
        "    is_property_askable, property_cardinality, property_range = map(lambda x: property_features[x], \n",
        "                                                                              property_features.keys())\n",
        "    property_name = inflect.plural(property_name) if property_cardinality == \"multiple\" else property_name\n",
        "\n",
        "    question = \"what %s the %s %s \\\"%s\\\"? \" % (wh_auxiliaries[property_cardinality], \n",
        "                                               property_name,\n",
        "                                               \"in\" if property_name == \"related concepts\" else \"of the\", \n",
        "                                               individual)\n",
        "    \n",
        "    printing_question = question.replace(\"*\", \" \").strip()\n",
        "\n",
        "    if(is_property_askable):\n",
        "      #printing only askable questions\n",
        "      print(\"*\",colored(printing_question, attrs=['bold', 'dark']), colored(\"---> askable\", \"green\") if is_property_askable else colored(\"---> not askable\", \"red\"))\n",
        "      \n",
        "      #related_concept case --> * func * obj\n",
        "      patt_match = question.find(\"*\")\n",
        "      if(patt_match != -1):\n",
        "        question_copy = question[patt_match+1:]\n",
        "        right_end = question_copy.find(\"*\")\n",
        "        focus_concept = question_copy[:right_end].strip()[:-2]\n",
        "        focus_feature = \"related concept\"\n",
        "      else:\n",
        "        focus_concept, focus_feature = get_question_focus(question)\n",
        "\n",
        "      #controlling related concepts\n",
        "      if(focus_feature == \"related concept\"):\n",
        "        answer = focus_concept\n",
        "      else:\n",
        "        question_data = {\"text\":question,\n",
        "                         \"scope\":\"general\" if focus_concept == \"discourse\" else \"specific\",\n",
        "                         \"focus_concept\":focus_concept,\n",
        "                         \"focus_feature\":focus_feature}\n",
        "        answer = input() \n",
        "      validation_dictionary[printing_question] = answer \n",
        "      \n",
        "      if(len(answer)>0):\n",
        "        answer = list(map(lambda x: x.strip(),answer.split(\",\")))\n",
        "        print(colored(\"Answer ---> \", \"yellow\", attrs=[\"bold\"]), answer)\n",
        "\n",
        "        #Avoiding deep asking for additional roles.\n",
        "        if(focus_feature != \"additional role\"):\n",
        "          for f_individual in answer:\n",
        "            answer_dict = building_ont_dict(answer_dict, f_individual, property_range, property_name,individual)\n",
        "            #----\n",
        "            if(f_individual not in answer_dictionary[property_range]):\n",
        "              answer_dictionary[property_range].append(f_individual)\n",
        "              #-> preventing question repetition \n",
        "              #questions based on the property type\n",
        "              if(property_name in ontology_classes):\n",
        "                generate_question(ontology, answer_dict=answer_dict, answer_dictionary=answer_dictionary, individual=f_individual, query_class=property_name)\n",
        "              #questions based on the range type\n",
        "              elif(property_range not in [\"none\", \"\"]):\n",
        "                generate_question(ontology, answer_dict=answer_dict, answer_dictionary=answer_dictionary, individual=f_individual, query_class=property_range)\n",
        "      else:\n",
        "        print(colored(\"Answer ---> \", \"yellow\", attrs=[\"bold\"]), \"None\")\n",
        "    else: print(colored(question, \"red\", attrs=[\"bold\"]))\n",
        "  return answer_dictionary, answer_dict, validation_dictionary"
      ],
      "metadata": {
        "id": "n9tJL0f-aF1j"
      },
      "execution_count": 3,
      "outputs": []
    },
    {
      "cell_type": "markdown",
      "source": [
        "# Populating the meta-ontology for RE"
      ],
      "metadata": {
        "id": "2Q9yWMbp4nka"
      }
    },
    {
      "cell_type": "code",
      "source": [
        "#Populating OntRE WORKFLOW\n",
        "'''\n",
        "Actor --> Actor in discourse\n",
        "Function \n",
        "--> Object --> hasName(object) \n",
        "--> Action --> hasActionVerb(verb)\n",
        "--> Action --> hasRleatedActor (actor loop)\n",
        "--> Action --> hasRelatedObject (object forecreated)\n",
        "Attribute \n",
        "--> Object --> hasName (object)\n",
        "--> Concept --> hasAttribute (object)\n",
        "'''\n",
        "\n",
        "#POPULATING THE ONTOLOGY!!!! \n",
        "'''\n",
        "1. for each concept --> create actor or object according to concept_type\n",
        "2. for each concept --> fill hasAttribute property                        \n",
        "3. for each action --> create action and fill properties (related_actor, related_object)\n",
        "'''"
      ],
      "metadata": {
        "id": "duQU0pn40RCo",
        "colab": {
          "base_uri": "https://localhost:8080/",
          "height": 52
        },
        "outputId": "e4db8ba8-e427-4462-ca5c-8dfecd87552a"
      },
      "execution_count": 4,
      "outputs": [
        {
          "output_type": "execute_result",
          "data": {
            "text/plain": [
              "'\\n1. for each concept --> create actor or object according to concept_type\\n2. for each concept --> fill hasAttribute property                        \\n3. for each action --> create action and fill properties (related_actor, related_object)\\n'"
            ],
            "application/vnd.google.colaboratory.intrinsic+json": {
              "type": "string"
            }
          },
          "metadata": {},
          "execution_count": 4
        }
      ]
    },
    {
      "cell_type": "code",
      "source": [
        "def create_object_individual(ontology, object_name):\n",
        "  object_class = ontology.Object\n",
        "  object_individual = object_class(object_name, hasName=object_name)\n",
        "  return object_individual\n",
        "\n",
        "#actor_attributes = [(object_name, object_attributes)...]\n",
        "def create_actor_individual(ontology, actor_role):\n",
        "  actor_class = ontology.Actor\n",
        "  actor_individual = actor_class(actor_role, hasRole = actor_role)\n",
        "  ontology.discourse.hasDiscourseActor.append(actor_individual)\n",
        "  return actor_individual\n",
        "\n",
        "def add_concept_attribute(concept_individual, concept_attribute):\n",
        "  concept_individual.concept_attribute.append(concept_attribute)\n",
        "  return concept_individual\n",
        "\n",
        "def create_action_individual(ontology, name, hasRelatedActor_str, hasRelatedConcept_str, hasActionVerb):\n",
        "  action_class = ontology.Action\n",
        "  hasRelatedActor = ontology.search_one(iri=\"*\"+hasRelatedActor_str, is_a=ontology.Actor)\n",
        "  hasRelatedConcept = ontology.search_one(iri=\"*\"+hasRelatedConcept_str, is_a=ontology.Concept)\n",
        "\n",
        "  action_individual = action_class(name, hasActionVerb=hasActionVerb)\n",
        "  if(hasRelatedActor is not None):\n",
        "    action_individual.hasRelatedActor.append(hasRelatedActor)\n",
        "  else:\n",
        "    print(\"NONE\")\n",
        "  if(hasRelatedConcept is not None):\n",
        "    action_individual.hasRelatedConcept.append(hasRelatedConcept)\n",
        "  else:\n",
        "    print(\"NONE\")\n",
        "\n",
        "  return action_individual\n",
        "\n",
        "def destroy_entities(ontology): \n",
        "  actors = ontology.search(is_a=ontology.Actor)\n",
        "  objects = ontology.search(is_a=ontology.Object)\n",
        "  actions = ontology.search(is_a=ontology.Action)\n",
        "  #print(actors, objects, actions)\n",
        "  a = [actors, objects, actions]\n",
        "  for i in a:\n",
        "    for j in i[1:]:\n",
        "      destroy_entity(j)\n",
        "\n",
        "  return ontology\n",
        "\n",
        "#Populating the ontology for RE\n",
        "def populate_ontology(ontology, ontology_data, ontology_save_path):\n",
        "  #clean_ontology\n",
        "  ontology = destroy_entities(ontology)\n",
        "\n",
        "  concept_keys = ontology_data[\"discourse\"][\"concept\"].keys()\n",
        "  #print(f\"concept_keys {concept_keys}\")\n",
        "  action_keys = ontology_data[\"discourse\"][\"action\"].keys()\n",
        "  pp_name = lambda x: \"_\".join(x.split(\" \"))\n",
        "  ontre_dict = {\"actor\":ontology.Actor, \"object\":ontology.Object}\n",
        "  create_concept_switch = {\"actor\": lambda x,y: create_actor_individual(x,y), \"object\": lambda x,y: create_object_individual(x,y)}\n",
        "  nlp_concepts = list(nlp.pipe(concept_keys, disable=[\"ner\"]))\n",
        "  #Adding concepts (Actor and Object type)\n",
        "  for idx,concept in enumerate(concept_keys):\n",
        "    \n",
        "    concept_data = ontology_data[\"discourse\"][\"concept\"][concept]\n",
        "    concept_type = concept_data[\"type\"]\n",
        "    concept_attributes = concept_data[\"attribute\"]\n",
        "    concept = \"_\".join([tk.lemma_ for tk in nlp_concepts[idx]]).lower()\n",
        "    #print(f\"concept {concept}\")\n",
        "    #concept = pp_name(concept)\n",
        "    \n",
        "    if(concept_type == \"actor\"):\n",
        "      concept_individual = create_actor_individual(ontology, concept)\n",
        "      print(f\"actor {concept}\")\n",
        "    elif(concept_type == \"object\"):\n",
        "      print(f\"concept {concept}\")\n",
        "      concept_individual = create_object_individual(ontology, concept)\n",
        "\n",
        "    nlp_attributes = list(nlp.pipe(concept_attributes, disable = [\"ner\"]))\n",
        "    nlp_attributes = [\"_\".join([tk.lemma_ for tk in doc]).lower() for doc in nlp_attributes]\n",
        "    #print(f\"attributes {concept_attributes}\")\n",
        "    for idx,attribute in enumerate(concept_attributes):\n",
        "      attribute_individual = create_concept_switch[ontology_data[\"discourse\"][\"concept\"][attribute][\"type\"]](ontology,nlp_attributes[idx])\n",
        "      concept_individual.hasAttribute.append(attribute_individual) \n",
        "      #print(attribute_individual, concept_individual) \n",
        "\n",
        "  #Adding actions (hasRelatedActor, hasActionverb, hasRelatedConcept)\n",
        "  for action in action_keys:\n",
        "    #print(f\"action {action}\")\n",
        "    action_data = ontology_data[\"discourse\"][\"action\"][action]\n",
        "    f_action_verb = action_data[\"f_action_verb\"]\n",
        "    f_related_concept = action_data[\"f_related_concept\"]\n",
        "    f_related_actor = action_data[\"f_related_actor\"]\n",
        "\n",
        "    #beautifying names\n",
        "    #f_action_verb, f_related_concept, f_related_actor = map(pp_name,[f_action_verb, f_related_concept, f_related_actor])\n",
        "    f_action_verb,f_related_concept,f_related_actor = map(lambda x: \"_\".join([tk.lemma_ for tk in nlp(x)]).lower(), [f_action_verb, f_related_concept, f_related_actor])\n",
        "    action_name = f\"{f_related_actor}*{f_action_verb}*{f_related_concept}\"\n",
        "    print(f\"action_name {action_name}, f_related_actor {f_related_actor}, f_related_concept {f_related_concept}, f_action_verb {f_action_verb}\")\n",
        "    action_individual = create_action_individual(ontology, action_name, f_related_actor, f_related_concept, f_action_verb)\n",
        "\n",
        "    #adding hasaction to relatedActor\n",
        "    actor_individual = ontology.search_one(iri=\"*\"+pp_name(f_related_actor), is_a=ontology.Actor)\n",
        "    if(actor_individual is not None):\n",
        "      actor_individual.hasAction.append(action_individual)\n",
        "    else:\n",
        "      print(\"NONE\")\n",
        "  ontology.save(file=ontology_save_path, format=\"rdfxml\")"
      ],
      "metadata": {
        "id": "67rmlWpw0Kvm"
      },
      "execution_count": 5,
      "outputs": []
    },
    {
      "cell_type": "markdown",
      "source": [
        "# Main! (Start here)"
      ],
      "metadata": {
        "id": "JH4feau64r0M"
      }
    },
    {
      "cell_type": "markdown",
      "source": [
        "**Instructions**\n",
        "\n",
        "- Download the meta-ontology for RE example: https://drive.google.com/file/d/1IC5ffOtcuLQE-8RYdWbf7P4Eqw_JeVJU/view?usp=sharing\n",
        "- Upload it to your workspace --> update the names in line 3 on the next cell if you change it\n",
        "- Go to the menu->Runtime->Run all or (Ctrl+F9)\n",
        "- Ask and answer the questions\n",
        "- Download the owl file with the populated meta-ontology for RE\n",
        "- You may visualize it by using protégé: https://protege.stanford.edu/ (it's open source)"
      ],
      "metadata": {
        "id": "MeoQ0xxE4v0V"
      }
    },
    {
      "cell_type": "code",
      "source": [
        "#Main\n",
        "ontre = get_ontology(\"file://ontre_ex.owl\").load() \n",
        "RULER_data = generate_question(ontre)\n",
        "populate_ontology(ontre,RULER_data[1],\"domain_rep.owl\")\n",
        "files.download(\"domain_rep.owl\")"
      ],
      "metadata": {
        "colab": {
          "base_uri": "https://localhost:8080/",
          "height": 816
        },
        "id": "2u-Rnzz002zi",
        "outputId": "1da246af-7cfa-4776-ceba-0a442d544d3c"
      },
      "execution_count": 6,
      "outputs": [
        {
          "output_type": "stream",
          "name": "stdout",
          "text": [
            "\u001b[1m\u001b[31mwhat are the discourse actions of the \"discourse\"? \u001b[0m\n",
            "* \u001b[2m\u001b[1mwhat are the discourse actors of the \"discourse\"?\u001b[0m \u001b[32m---> askable\u001b[0m\n",
            "user,admin\n",
            "\u001b[1m\u001b[33mAnswer ---> \u001b[0m ['user', 'admin']\n",
            "\u001b[1m\u001b[31mwhat are the roles of the \"user\"? \u001b[0m\n",
            "* \u001b[2m\u001b[1mwhat are the actions of the \"user\"?\u001b[0m \u001b[32m---> askable\u001b[0m\n",
            "uploads*picture\n",
            "\u001b[1m\u001b[33mAnswer ---> \u001b[0m ['uploads*picture']\n",
            "\u001b[1m\u001b[31mwhat are the action verbs of the \"uploads*picture\"? \u001b[0m\n",
            "\u001b[1m\u001b[31mwhat are the related actors of the \"uploads*picture\"? \u001b[0m\n",
            "* \u001b[2m\u001b[1mwhat is the related concept of the \"uploads picture\"?\u001b[0m \u001b[32m---> askable\u001b[0m\n",
            "\u001b[1m\u001b[33mAnswer ---> \u001b[0m ['picture']\n",
            "* \u001b[2m\u001b[1mwhat are the attributes of the \"picture\"?\u001b[0m \u001b[32m---> askable\u001b[0m\n",
            "size\n",
            "\u001b[1m\u001b[33mAnswer ---> \u001b[0m ['size']\n",
            "* \u001b[2m\u001b[1mwhat are the attributes of the \"size\"?\u001b[0m \u001b[32m---> askable\u001b[0m\n",
            "\n",
            "\u001b[1m\u001b[33mAnswer ---> \u001b[0m None\n",
            "* \u001b[2m\u001b[1mwhat are the attributes of the \"user\"?\u001b[0m \u001b[32m---> askable\u001b[0m\n",
            "name\n",
            "\u001b[1m\u001b[33mAnswer ---> \u001b[0m ['name']\n",
            "* \u001b[2m\u001b[1mwhat are the attributes of the \"name\"?\u001b[0m \u001b[32m---> askable\u001b[0m\n",
            "\n",
            "\u001b[1m\u001b[33mAnswer ---> \u001b[0m None\n",
            "\u001b[1m\u001b[31mwhat are the roles of the \"admin\"? \u001b[0m\n",
            "* \u001b[2m\u001b[1mwhat are the actions of the \"admin\"?\u001b[0m \u001b[32m---> askable\u001b[0m\n",
            "adds*user\n",
            "\u001b[1m\u001b[33mAnswer ---> \u001b[0m ['adds*user']\n",
            "\u001b[1m\u001b[31mwhat are the action verbs of the \"adds*user\"? \u001b[0m\n",
            "\u001b[1m\u001b[31mwhat are the related actors of the \"adds*user\"? \u001b[0m\n",
            "* \u001b[2m\u001b[1mwhat is the related concept of the \"adds user\"?\u001b[0m \u001b[32m---> askable\u001b[0m\n",
            "\u001b[1m\u001b[33mAnswer ---> \u001b[0m ['user']\n",
            "* \u001b[2m\u001b[1mwhat are the attributes of the \"user\"?\u001b[0m \u001b[32m---> askable\u001b[0m\n",
            "\n",
            "\u001b[1m\u001b[33mAnswer ---> \u001b[0m None\n",
            "* \u001b[2m\u001b[1mwhat are the attributes of the \"admin\"?\u001b[0m \u001b[32m---> askable\u001b[0m\n",
            "\n",
            "\u001b[1m\u001b[33mAnswer ---> \u001b[0m None\n",
            "\u001b[1m\u001b[31mwhat are the discourse concepts of the \"discourse\"? \u001b[0m\n",
            "actor user\n",
            "concept picture\n",
            "concept size\n",
            "concept name\n",
            "actor admin\n",
            "action_name user*upload*picture, f_related_actor user, f_related_concept picture, f_action_verb upload\n",
            "action_name admin*add*user, f_related_actor admin, f_related_concept user, f_action_verb add\n"
          ]
        },
        {
          "output_type": "display_data",
          "data": {
            "text/plain": [
              "<IPython.core.display.Javascript object>"
            ],
            "application/javascript": [
              "\n",
              "    async function download(id, filename, size) {\n",
              "      if (!google.colab.kernel.accessAllowed) {\n",
              "        return;\n",
              "      }\n",
              "      const div = document.createElement('div');\n",
              "      const label = document.createElement('label');\n",
              "      label.textContent = `Downloading \"${filename}\": `;\n",
              "      div.appendChild(label);\n",
              "      const progress = document.createElement('progress');\n",
              "      progress.max = size;\n",
              "      div.appendChild(progress);\n",
              "      document.body.appendChild(div);\n",
              "\n",
              "      const buffers = [];\n",
              "      let downloaded = 0;\n",
              "\n",
              "      const channel = await google.colab.kernel.comms.open(id);\n",
              "      // Send a message to notify the kernel that we're ready.\n",
              "      channel.send({})\n",
              "\n",
              "      for await (const message of channel.messages) {\n",
              "        // Send a message to notify the kernel that we're ready.\n",
              "        channel.send({})\n",
              "        if (message.buffers) {\n",
              "          for (const buffer of message.buffers) {\n",
              "            buffers.push(buffer);\n",
              "            downloaded += buffer.byteLength;\n",
              "            progress.value = downloaded;\n",
              "          }\n",
              "        }\n",
              "      }\n",
              "      const blob = new Blob(buffers, {type: 'application/binary'});\n",
              "      const a = document.createElement('a');\n",
              "      a.href = window.URL.createObjectURL(blob);\n",
              "      a.download = filename;\n",
              "      div.appendChild(a);\n",
              "      a.click();\n",
              "      div.remove();\n",
              "    }\n",
              "  "
            ]
          },
          "metadata": {}
        },
        {
          "output_type": "display_data",
          "data": {
            "text/plain": [
              "<IPython.core.display.Javascript object>"
            ],
            "application/javascript": [
              "download(\"download_bd4a9122-bd57-477d-a9c7-efd23f7ca84b\", \"domain_rep.owl\", 7065)"
            ]
          },
          "metadata": {}
        }
      ]
    }
  ]
}